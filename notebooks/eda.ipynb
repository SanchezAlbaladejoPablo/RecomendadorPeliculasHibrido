{
 "cells": [
  {
   "cell_type": "code",
   "execution_count": null,
   "metadata": {},
   "outputs": [],
   "source": [
    "import pandas as pd\n",
    "import matplotlib.pyplot as plt\n",
    "import seaborn as sns\n",
    "from wordcloud import WordCloud\n",
    "import os\n",
    "\n",
    "# Cargar los datasets\n",
    "# Asegúrate de que la ruta sea correcta, asumiendo que ml-1m está en data/ml-1m/\n",
    "movies_path = '../data/ml-1m/movies.dat'\n",
    "ratings_path = '../data/ml-1m/ratings.dat'\n",
    "users_path = '../data/ml-1m/users.dat'\n",
    "\n",
    "# Definir nombres de columnas y separadores\n",
    "unames = ['user_id', 'gender', 'age', 'occupation', 'zip_code']\n",
    "rnames = ['user_id', 'movie_id', 'rating', 'timestamp']\n",
    "mnames = ['movie_id', 'title', 'genres']\n",
    "\n",
    "users = pd.read_csv(users_path, sep='::', header=None, names=unames, engine='python')\n",
    "ratings = pd.read_csv(ratings_path, sep='::', header=None, names=rnames, engine='python')\n",
    "movies = pd.read_csv(movies_path, sep='::', header=None, names=mnames, engine='python', encoding='latin-1')\n",
    "\n",
    "# Unir los datasets\n",
    "df = pd.merge(ratings, users, on='user_id')\n",
    "df = pd.merge(df, movies, on='movie_id')\n",
    "\n",
    "print('Shape of merged dataframe:', df.shape)\n",
    "print('First 5 rows of merged dataframe:')\n",
    "print(df.head())"
   ]
  },
  {
   "cell_type": "code",
   "execution_count": null,
   "metadata": {},
   "outputs": [],
   "source": [
    "# Limpieza de datos\n",
    "# Eliminar duplicados (si los hubiera, aunque en MovieLens 1M no suelen haber ratings duplicados exactos)\n",
    "df.drop_duplicates(inplace=True)\n",
    "print(f'Shape after dropping duplicates: {df.shape}')\n",
    "\n",
    "# Verificar IDs inválidos (por ejemplo, IDs que no existen en las tablas originales)\n",
    "# Esto ya se maneja implícitamente con el merge, pero podemos verificar si hay nulos después del merge\n",
    "print('\nMissing values after merge:')\n",
    "print(df.isnull().sum())"
   ]
  },
  {
   "cell_type": "code",
   "execution_count": null,
   "metadata": {},
   "outputs": [],
   "source": [
    "# Análisis exploratorio de datos (EDA)\n",
    "\n",
    "# 1. Distribución de ratings\n",
    "plt.figure(figsize=(10, 6))\n",
    "sns.countplot(x='rating', data=df, palette='viridis')\n",
    "plt.title('Distribución de Ratings')\n",
    "plt.xlabel('Rating')\n",
    "plt.ylabel('Número de Ratings')\n",
    "plt.show()\n",
    "\n",
    "# 2. Top usuarios por número de ratings\n",
    "top_users = df['user_id'].value_counts().head(10)\n",
    "plt.figure(figsize=(12, 6))\n",
    "sns.barplot(x=top_users.index, y=top_users.values, palette='magma')\n",
    "plt.title('Top 10 Usuarios por Número de Ratings')\n",
    "plt.xlabel('ID de Usuario')\n",
    "plt.ylabel('Número de Ratings')\n",
    "plt.show()\n",
    "\n",
    "# 3. Top películas por número de ratings\n",
    "top_movies = df['title'].value_counts().head(10)\n",
    "plt.figure(figsize=(12, 6))\n",
    "sns.barplot(x=top_movies.index, y=top_movies.values, palette='plasma')\n",
    "plt.title('Top 10 Películas por Número de Ratings')\n",
    "plt.xlabel('Título de la Película')\n",
    "plt.ylabel('Número de Ratings')\n",
    "plt.xticks(rotation=45, ha='right')\n",
    "plt.tight_layout()\n",
    "plt.show()"
   ]
  },
  {
   "cell_type": "code",
   "execution_count": null,
   "metadata": {},
   "outputs": [],
   "source": [
    "# 4. Longitud de títulos (para contenido)\n",
    "df['title_length'] = df['title'].apply(len)\n",
    "plt.figure(figsize=(10, 6))\n",
    "sns.histplot(df['title_length'], bins=30, kde=True, color='skyblue')\n",
    "plt.title('Distribución de la Longitud de los Títulos de Películas')\n",
    "plt.xlabel('Longitud del Título')\n",
    "plt.ylabel('Frecuencia')\n",
    "plt.show()\n",
    "\n",
    "# 5. Wordcloud de géneros\n",
    "all_genres = ' '.join(df['genres'].str.replace('|', ' ', regex=False))\n",
    "wordcloud = WordCloud(width=800, height=400, background_color='white').generate(all_genres)\n",
    "plt.figure(figsize=(15, 7))\n",
    "plt.imshow(wordcloud, interpolation='bilinear')\n",
    "plt.axis('off')\n",
    "plt.title('Nube de Palabras de Géneros de Películas')\n",
    "plt.show()"
   ]
  }
 ],
 "metadata": {
  "kernelspec": {
   "display_name": "Python 3",
   "language": "python",
   "name": "python3"
  },
  "language_info": {
   "codemirror_mode": {
    "name": "ipython",
    "version": 3
   },
   "file_extension": ".py",
   "mimetype": "text/x-python",
   "name": "python",
   "nbconvert_exporter": "python",
   "pygments_lexer": "ipython3",
   "version": "3.11.0rc1"
  }
 },
 "nbformat": 4,
 "nbformat_minor": 4
}

